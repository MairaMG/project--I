{
 "cells": [
  {
   "cell_type": "code",
   "execution_count": null,
   "id": "a354560e",
   "metadata": {},
   "outputs": [],
   "source": []
  }
 ],
 "metadata": {
  "kernelspec": {
   "display_name": "ironhack",
   "language": "python",
   "name": "ironhack"
  }
 },
 "nbformat": 4,
 "nbformat_minor": 5
}
