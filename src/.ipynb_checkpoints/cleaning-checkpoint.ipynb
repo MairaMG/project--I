{
 "cells": [
  {
   "cell_type": "markdown",
   "id": "c33557d2",
   "metadata": {},
   "source": [
    "## 3. Cleaning"
   ]
  },
  {
   "cell_type": "code",
   "execution_count": 206,
   "id": "7ddbba7e",
   "metadata": {},
   "outputs": [],
   "source": [
    "import pandas as pd\n",
    "import numpy as np\n",
    "import matplotlib.pyplot as plt\n",
    "import seaborn as sns\n",
    "import re\n",
    "from fuzzywuzzy import process\n",
    "import pycountry\n"
   ]
  },
  {
   "cell_type": "code",
   "execution_count": 207,
   "id": "fe1f7c75",
   "metadata": {},
   "outputs": [
    {
     "data": {
      "text/html": [
       "<div>\n",
       "<style scoped>\n",
       "    .dataframe tbody tr th:only-of-type {\n",
       "        vertical-align: middle;\n",
       "    }\n",
       "\n",
       "    .dataframe tbody tr th {\n",
       "        vertical-align: top;\n",
       "    }\n",
       "\n",
       "    .dataframe thead th {\n",
       "        text-align: right;\n",
       "    }\n",
       "</style>\n",
       "<table border=\"1\" class=\"dataframe\">\n",
       "  <thead>\n",
       "    <tr style=\"text-align: right;\">\n",
       "      <th></th>\n",
       "      <th>Case_Number</th>\n",
       "      <th>Date</th>\n",
       "      <th>Year</th>\n",
       "      <th>Extracted_Month</th>\n",
       "      <th>Type</th>\n",
       "      <th>Country</th>\n",
       "      <th>Area</th>\n",
       "      <th>Location</th>\n",
       "      <th>Activity</th>\n",
       "      <th>Name</th>\n",
       "      <th>...</th>\n",
       "      <th>Time</th>\n",
       "      <th>Species_</th>\n",
       "      <th>Investigator_or_Source</th>\n",
       "      <th>pdf</th>\n",
       "      <th>href_formula</th>\n",
       "      <th>href</th>\n",
       "      <th>original_order</th>\n",
       "      <th>Injury_Category</th>\n",
       "      <th>Species_Grouped</th>\n",
       "      <th>Species_Cleaned</th>\n",
       "    </tr>\n",
       "  </thead>\n",
       "  <tbody>\n",
       "    <tr>\n",
       "      <th>0</th>\n",
       "      <td>2018.06.25</td>\n",
       "      <td>25-Jun-2018</td>\n",
       "      <td>2018</td>\n",
       "      <td>6.0</td>\n",
       "      <td>Boating</td>\n",
       "      <td>usa</td>\n",
       "      <td>California</td>\n",
       "      <td>Oceanside, San Diego County</td>\n",
       "      <td>surfing</td>\n",
       "      <td>Julie Wolfe</td>\n",
       "      <td>...</td>\n",
       "      <td>18h00</td>\n",
       "      <td>white shark</td>\n",
       "      <td>R. Collier, GSAF</td>\n",
       "      <td>2018.06.25-Wolfe.pdf</td>\n",
       "      <td>http://sharkattackfile.net/spreadsheets/pdf_di...</td>\n",
       "      <td>http://sharkattackfile.net/spreadsheets/pdf_di...</td>\n",
       "      <td>6303.0</td>\n",
       "      <td>No Injury</td>\n",
       "      <td>white shark</td>\n",
       "      <td>White shark</td>\n",
       "    </tr>\n",
       "    <tr>\n",
       "      <th>1</th>\n",
       "      <td>2018.06.18</td>\n",
       "      <td>18-Jun-2018</td>\n",
       "      <td>2018</td>\n",
       "      <td>6.0</td>\n",
       "      <td>Unprovoked</td>\n",
       "      <td>usa</td>\n",
       "      <td>Georgia</td>\n",
       "      <td>St. Simon Island, Glynn County</td>\n",
       "      <td>bathing</td>\n",
       "      <td>Adyson McNeely</td>\n",
       "      <td>...</td>\n",
       "      <td>14h00  -15h00</td>\n",
       "      <td>unknown</td>\n",
       "      <td>K.McMurray, TrackingSharks.com</td>\n",
       "      <td>2018.06.18-McNeely.pdf</td>\n",
       "      <td>http://sharkattackfile.net/spreadsheets/pdf_di...</td>\n",
       "      <td>http://sharkattackfile.net/spreadsheets/pdf_di...</td>\n",
       "      <td>6302.0</td>\n",
       "      <td>Minor Injury</td>\n",
       "      <td>unknown</td>\n",
       "      <td>Unknown</td>\n",
       "    </tr>\n",
       "    <tr>\n",
       "      <th>2</th>\n",
       "      <td>2018.06.09</td>\n",
       "      <td>09-Jun-2018</td>\n",
       "      <td>2018</td>\n",
       "      <td>6.0</td>\n",
       "      <td>Invalid</td>\n",
       "      <td>usa</td>\n",
       "      <td>Hawaii</td>\n",
       "      <td>Habush, Oahu</td>\n",
       "      <td>surfing</td>\n",
       "      <td>John Denges</td>\n",
       "      <td>...</td>\n",
       "      <td>07h45</td>\n",
       "      <td>unknown</td>\n",
       "      <td>K.McMurray, TrackingSharks.com</td>\n",
       "      <td>2018.06.09-Denges.pdf</td>\n",
       "      <td>http://sharkattackfile.net/spreadsheets/pdf_di...</td>\n",
       "      <td>http://sharkattackfile.net/spreadsheets/pdf_di...</td>\n",
       "      <td>6301.0</td>\n",
       "      <td>Other non-fatal attacks</td>\n",
       "      <td>unknown</td>\n",
       "      <td>Unknown</td>\n",
       "    </tr>\n",
       "  </tbody>\n",
       "</table>\n",
       "<p>3 rows × 24 columns</p>\n",
       "</div>"
      ],
      "text/plain": [
       "  Case_Number         Date  Year  Extracted_Month        Type Country  \\\n",
       "0  2018.06.25  25-Jun-2018  2018              6.0     Boating     usa   \n",
       "1  2018.06.18  18-Jun-2018  2018              6.0  Unprovoked     usa   \n",
       "2  2018.06.09  09-Jun-2018  2018              6.0     Invalid     usa   \n",
       "\n",
       "         Area                        Location Activity             Name  ...  \\\n",
       "0  California     Oceanside, San Diego County  surfing      Julie Wolfe  ...   \n",
       "1     Georgia  St. Simon Island, Glynn County  bathing  Adyson McNeely   ...   \n",
       "2      Hawaii                    Habush, Oahu  surfing      John Denges  ...   \n",
       "\n",
       "            Time     Species_          Investigator_or_Source  \\\n",
       "0          18h00  white shark                R. Collier, GSAF   \n",
       "1  14h00  -15h00      unknown  K.McMurray, TrackingSharks.com   \n",
       "2          07h45      unknown  K.McMurray, TrackingSharks.com   \n",
       "\n",
       "                      pdf                                       href_formula  \\\n",
       "0    2018.06.25-Wolfe.pdf  http://sharkattackfile.net/spreadsheets/pdf_di...   \n",
       "1  2018.06.18-McNeely.pdf  http://sharkattackfile.net/spreadsheets/pdf_di...   \n",
       "2   2018.06.09-Denges.pdf  http://sharkattackfile.net/spreadsheets/pdf_di...   \n",
       "\n",
       "                                                href original_order  \\\n",
       "0  http://sharkattackfile.net/spreadsheets/pdf_di...         6303.0   \n",
       "1  http://sharkattackfile.net/spreadsheets/pdf_di...         6302.0   \n",
       "2  http://sharkattackfile.net/spreadsheets/pdf_di...         6301.0   \n",
       "\n",
       "           Injury_Category Species_Grouped Species_Cleaned  \n",
       "0                No Injury     white shark     White shark  \n",
       "1             Minor Injury         unknown         Unknown  \n",
       "2  Other non-fatal attacks         unknown         Unknown  \n",
       "\n",
       "[3 rows x 24 columns]"
      ]
     },
     "execution_count": 207,
     "metadata": {},
     "output_type": "execute_result"
    }
   ],
   "source": [
    "def get_clean_data():\n",
    "    # File path to your CSV file\n",
    "    file_path = '/Users/mairagutierrez/Documents/Ironhack/PROJECTS/project--I/data/pre_cleaning.csv'\n",
    "\n",
    "    # Try reading the file with a different encoding\n",
    "    cleaned_data = pd.read_csv(file_path)\n",
    "\n",
    "    return cleaned_data\n",
    "\n",
    "data = get_clean_data()\n",
    "data.head(3) \n"
   ]
  },
  {
   "cell_type": "markdown",
   "id": "b1ef546e",
   "metadata": {},
   "source": [
    "### (Making sure the columns I am goint to use does not have missing values)"
   ]
  },
  {
   "cell_type": "markdown",
   "id": "5985117f",
   "metadata": {},
   "source": [
    "## 1. Year"
   ]
  },
  {
   "cell_type": "code",
   "execution_count": 208,
   "id": "b8326df2",
   "metadata": {},
   "outputs": [
    {
     "name": "stdout",
     "output_type": "stream",
     "text": [
      "Does not have null values.\n"
     ]
    }
   ],
   "source": [
    "has_null_values = data['Year'].isnull().any()\n",
    "if has_null_values:\n",
    "    print(\"Has null values.\")\n",
    "else:\n",
    "    print(\"Does not have null values.\")\n"
   ]
  },
  {
   "cell_type": "markdown",
   "id": "85cf5291",
   "metadata": {},
   "source": [
    "## 2. Extracted Month"
   ]
  },
  {
   "cell_type": "code",
   "execution_count": 209,
   "id": "02b23c08",
   "metadata": {},
   "outputs": [
    {
     "name": "stdout",
     "output_type": "stream",
     "text": [
      "Has null values.\n"
     ]
    }
   ],
   "source": [
    "# Check if it has null values\n",
    "has_null_values = data['Extracted_Month'].isnull().any()\n",
    "if has_null_values:\n",
    "    print(\"Has null values.\")\n",
    "else:\n",
    "    print(\"Does not have null values.\")\n"
   ]
  },
  {
   "cell_type": "code",
   "execution_count": 210,
   "id": "505baf08",
   "metadata": {
    "scrolled": true
   },
   "outputs": [
    {
     "data": {
      "text/plain": [
       "389     7.0\n",
       "5486    9.0\n",
       "Name: Extracted_Month, dtype: float64"
      ]
     },
     "execution_count": 210,
     "metadata": {},
     "output_type": "execute_result"
    }
   ],
   "source": [
    "# Replacing the missing values in the \"Extracted_Month\" column for the specified rows\n",
    "data.at[389, 'Extracted_Month'] = 7.0\n",
    "data.at[5486, 'Extracted_Month'] = 9.0\n",
    "\n",
    "# Verifying the changes\n",
    "data.loc[[389, 5486], 'Extracted_Month']\n"
   ]
  },
  {
   "cell_type": "code",
   "execution_count": 211,
   "id": "5d36d72d",
   "metadata": {},
   "outputs": [
    {
     "name": "stdout",
     "output_type": "stream",
     "text": [
      "Does not have null values.\n"
     ]
    }
   ],
   "source": [
    "# Second Check if it still has null values\n",
    "has_null_values = data['Extracted_Month'].isnull().any()\n",
    "if has_null_values:\n",
    "    print(\"Has null values.\")\n",
    "else:\n",
    "    print(\"Does not have null values.\")"
   ]
  },
  {
   "cell_type": "markdown",
   "id": "66d2ae46",
   "metadata": {},
   "source": [
    "## 2. Type"
   ]
  },
  {
   "cell_type": "code",
   "execution_count": 212,
   "id": "76ed3ed6",
   "metadata": {},
   "outputs": [
    {
     "name": "stdout",
     "output_type": "stream",
     "text": [
      "Does not have null values.\n"
     ]
    }
   ],
   "source": [
    "# Check if it has null values\n",
    "has_null_values = data['Type'].isnull().any()\n",
    "if has_null_values:\n",
    "    print(\"Has null values.\")\n",
    "else:\n",
    "    print(\"Does not have null values.\")"
   ]
  },
  {
   "cell_type": "markdown",
   "id": "5c21c38c",
   "metadata": {},
   "source": [
    "## 2. Country"
   ]
  },
  {
   "cell_type": "code",
   "execution_count": 213,
   "id": "0f4c2c8b",
   "metadata": {},
   "outputs": [
    {
     "name": "stdout",
     "output_type": "stream",
     "text": [
      "Does not have null values.\n"
     ]
    }
   ],
   "source": [
    "# Check if it has null values\n",
    "has_null_values = data['Country'].isnull().any()\n",
    "if has_null_values:\n",
    "    print(\"Has null values.\")\n",
    "else:\n",
    "    print(\"Does not have null values.\")"
   ]
  },
  {
   "cell_type": "markdown",
   "id": "85ea0fff",
   "metadata": {},
   "source": [
    "## 3. Activity"
   ]
  },
  {
   "cell_type": "code",
   "execution_count": 214,
   "id": "322d39e9",
   "metadata": {},
   "outputs": [
    {
     "name": "stdout",
     "output_type": "stream",
     "text": [
      "Has null values.\n"
     ]
    }
   ],
   "source": [
    "# Check if it has null values\n",
    "has_null_values = data['Activity'].isnull().any()\n",
    "if has_null_values:\n",
    "    print(\"Has null values.\")\n",
    "else:\n",
    "    print(\"Does not have null values.\")"
   ]
  },
  {
   "cell_type": "code",
   "execution_count": 215,
   "id": "dba03b94",
   "metadata": {},
   "outputs": [
    {
     "data": {
      "text/plain": [
       "2510    canoe\n",
       "5558    canoe\n",
       "Name: Activity, dtype: object"
      ]
     },
     "execution_count": 215,
     "metadata": {},
     "output_type": "execute_result"
    }
   ],
   "source": [
    "# Replacing the null values in the \"Activity\" column with \"canoe\"\n",
    "data['Activity'].fillna('canoe', inplace=True)\n",
    "\n",
    "# Verifying the changes\n",
    "data.loc[[2510, 5558], 'Activity']\n"
   ]
  },
  {
   "cell_type": "code",
   "execution_count": 216,
   "id": "cc0909cf",
   "metadata": {},
   "outputs": [
    {
     "name": "stdout",
     "output_type": "stream",
     "text": [
      "Does not have null values.\n"
     ]
    }
   ],
   "source": [
    "# Second Check if still has null values\n",
    "has_null_values = data['Activity'].isnull().any()\n",
    "if has_null_values:\n",
    "    print(\"Has null values.\")\n",
    "else:\n",
    "    print(\"Does not have null values.\")"
   ]
  },
  {
   "cell_type": "markdown",
   "id": "93500848",
   "metadata": {},
   "source": [
    "## 4. Sex"
   ]
  },
  {
   "cell_type": "code",
   "execution_count": 217,
   "id": "8ef49f26",
   "metadata": {
    "scrolled": true
   },
   "outputs": [
    {
     "name": "stdout",
     "output_type": "stream",
     "text": [
      "Does not have null values.\n"
     ]
    }
   ],
   "source": [
    "# Check if still has null values\n",
    "has_null_values = data['Sex_'].isnull().any()\n",
    "if has_null_values:\n",
    "    print(\"Has null values.\")\n",
    "else:\n",
    "    print(\"Does not have null values.\")"
   ]
  },
  {
   "cell_type": "code",
   "execution_count": 218,
   "id": "b137cd78",
   "metadata": {},
   "outputs": [
    {
     "data": {
      "text/html": [
       "<div>\n",
       "<style scoped>\n",
       "    .dataframe tbody tr th:only-of-type {\n",
       "        vertical-align: middle;\n",
       "    }\n",
       "\n",
       "    .dataframe tbody tr th {\n",
       "        vertical-align: top;\n",
       "    }\n",
       "\n",
       "    .dataframe thead th {\n",
       "        text-align: right;\n",
       "    }\n",
       "</style>\n",
       "<table border=\"1\" class=\"dataframe\">\n",
       "  <thead>\n",
       "    <tr style=\"text-align: right;\">\n",
       "      <th></th>\n",
       "      <th>Case_Number</th>\n",
       "      <th>Date</th>\n",
       "      <th>Year</th>\n",
       "      <th>Extracted_Month</th>\n",
       "      <th>Type</th>\n",
       "      <th>Country</th>\n",
       "      <th>Area</th>\n",
       "      <th>Location</th>\n",
       "      <th>Activity</th>\n",
       "      <th>Name</th>\n",
       "      <th>...</th>\n",
       "      <th>Time</th>\n",
       "      <th>Species_</th>\n",
       "      <th>Investigator_or_Source</th>\n",
       "      <th>pdf</th>\n",
       "      <th>href_formula</th>\n",
       "      <th>href</th>\n",
       "      <th>original_order</th>\n",
       "      <th>Injury_Category</th>\n",
       "      <th>Species_Grouped</th>\n",
       "      <th>Species_Cleaned</th>\n",
       "    </tr>\n",
       "  </thead>\n",
       "  <tbody>\n",
       "    <tr>\n",
       "      <th>0</th>\n",
       "      <td>2018.06.25</td>\n",
       "      <td>25-Jun-2018</td>\n",
       "      <td>2018</td>\n",
       "      <td>6.0</td>\n",
       "      <td>Boating</td>\n",
       "      <td>usa</td>\n",
       "      <td>California</td>\n",
       "      <td>Oceanside, San Diego County</td>\n",
       "      <td>surfing</td>\n",
       "      <td>Julie Wolfe</td>\n",
       "      <td>...</td>\n",
       "      <td>18h00</td>\n",
       "      <td>white shark</td>\n",
       "      <td>R. Collier, GSAF</td>\n",
       "      <td>2018.06.25-Wolfe.pdf</td>\n",
       "      <td>http://sharkattackfile.net/spreadsheets/pdf_di...</td>\n",
       "      <td>http://sharkattackfile.net/spreadsheets/pdf_di...</td>\n",
       "      <td>6303.0</td>\n",
       "      <td>No Injury</td>\n",
       "      <td>white shark</td>\n",
       "      <td>White shark</td>\n",
       "    </tr>\n",
       "    <tr>\n",
       "      <th>1</th>\n",
       "      <td>2018.06.18</td>\n",
       "      <td>18-Jun-2018</td>\n",
       "      <td>2018</td>\n",
       "      <td>6.0</td>\n",
       "      <td>Unprovoked</td>\n",
       "      <td>usa</td>\n",
       "      <td>Georgia</td>\n",
       "      <td>St. Simon Island, Glynn County</td>\n",
       "      <td>bathing</td>\n",
       "      <td>Adyson McNeely</td>\n",
       "      <td>...</td>\n",
       "      <td>14h00  -15h00</td>\n",
       "      <td>unknown</td>\n",
       "      <td>K.McMurray, TrackingSharks.com</td>\n",
       "      <td>2018.06.18-McNeely.pdf</td>\n",
       "      <td>http://sharkattackfile.net/spreadsheets/pdf_di...</td>\n",
       "      <td>http://sharkattackfile.net/spreadsheets/pdf_di...</td>\n",
       "      <td>6302.0</td>\n",
       "      <td>Minor Injury</td>\n",
       "      <td>unknown</td>\n",
       "      <td>Unknown</td>\n",
       "    </tr>\n",
       "    <tr>\n",
       "      <th>2</th>\n",
       "      <td>2018.06.09</td>\n",
       "      <td>09-Jun-2018</td>\n",
       "      <td>2018</td>\n",
       "      <td>6.0</td>\n",
       "      <td>Invalid</td>\n",
       "      <td>usa</td>\n",
       "      <td>Hawaii</td>\n",
       "      <td>Habush, Oahu</td>\n",
       "      <td>surfing</td>\n",
       "      <td>John Denges</td>\n",
       "      <td>...</td>\n",
       "      <td>07h45</td>\n",
       "      <td>unknown</td>\n",
       "      <td>K.McMurray, TrackingSharks.com</td>\n",
       "      <td>2018.06.09-Denges.pdf</td>\n",
       "      <td>http://sharkattackfile.net/spreadsheets/pdf_di...</td>\n",
       "      <td>http://sharkattackfile.net/spreadsheets/pdf_di...</td>\n",
       "      <td>6301.0</td>\n",
       "      <td>Other non-fatal attacks</td>\n",
       "      <td>unknown</td>\n",
       "      <td>Unknown</td>\n",
       "    </tr>\n",
       "    <tr>\n",
       "      <th>3</th>\n",
       "      <td>2018.06.08</td>\n",
       "      <td>08-Jun-2018</td>\n",
       "      <td>2018</td>\n",
       "      <td>6.0</td>\n",
       "      <td>Unprovoked</td>\n",
       "      <td>Australia</td>\n",
       "      <td>New South Wales</td>\n",
       "      <td>Arrawarra Headland</td>\n",
       "      <td>surfing</td>\n",
       "      <td>male</td>\n",
       "      <td>...</td>\n",
       "      <td>NaN</td>\n",
       "      <td>2 m shark</td>\n",
       "      <td>B. Myatt, GSAF</td>\n",
       "      <td>2018.06.08-Arrawarra.pdf</td>\n",
       "      <td>http://sharkattackfile.net/spreadsheets/pdf_di...</td>\n",
       "      <td>http://sharkattackfile.net/spreadsheets/pdf_di...</td>\n",
       "      <td>6300.0</td>\n",
       "      <td>Minor Injury</td>\n",
       "      <td>2 m shark</td>\n",
       "      <td>Unidentified Shark</td>\n",
       "    </tr>\n",
       "    <tr>\n",
       "      <th>4</th>\n",
       "      <td>2018.06.04</td>\n",
       "      <td>04-Jun-2018</td>\n",
       "      <td>2018</td>\n",
       "      <td>6.0</td>\n",
       "      <td>Provoked</td>\n",
       "      <td>Mexico</td>\n",
       "      <td>Colima</td>\n",
       "      <td>La Ticla</td>\n",
       "      <td>diving</td>\n",
       "      <td>Gustavo Ramos</td>\n",
       "      <td>...</td>\n",
       "      <td>NaN</td>\n",
       "      <td>tiger shark, 3m</td>\n",
       "      <td>A .Kipper</td>\n",
       "      <td>2018.06.04-Ramos.pdf</td>\n",
       "      <td>http://sharkattackfile.net/spreadsheets/pdf_di...</td>\n",
       "      <td>http://sharkattackfile.net/spreadsheets/pdf_di...</td>\n",
       "      <td>6299.0</td>\n",
       "      <td>Laceration</td>\n",
       "      <td>tiger shark, 3m</td>\n",
       "      <td>Tiger shark</td>\n",
       "    </tr>\n",
       "    <tr>\n",
       "      <th>...</th>\n",
       "      <td>...</td>\n",
       "      <td>...</td>\n",
       "      <td>...</td>\n",
       "      <td>...</td>\n",
       "      <td>...</td>\n",
       "      <td>...</td>\n",
       "      <td>...</td>\n",
       "      <td>...</td>\n",
       "      <td>...</td>\n",
       "      <td>...</td>\n",
       "      <td>...</td>\n",
       "      <td>...</td>\n",
       "      <td>...</td>\n",
       "      <td>...</td>\n",
       "      <td>...</td>\n",
       "      <td>...</td>\n",
       "      <td>...</td>\n",
       "      <td>...</td>\n",
       "      <td>...</td>\n",
       "      <td>...</td>\n",
       "      <td>...</td>\n",
       "    </tr>\n",
       "    <tr>\n",
       "      <th>5557</th>\n",
       "      <td>1900.07.14</td>\n",
       "      <td>14-Jul-1900</td>\n",
       "      <td>1900</td>\n",
       "      <td>7.0</td>\n",
       "      <td>Invalid</td>\n",
       "      <td>usa</td>\n",
       "      <td>Hawaii</td>\n",
       "      <td>Makapu'u Point, O'ahu</td>\n",
       "      <td>hunting seashells</td>\n",
       "      <td>Emil Uhlbrecht &amp; unidentified person</td>\n",
       "      <td>...</td>\n",
       "      <td>NaN</td>\n",
       "      <td>questionable</td>\n",
       "      <td>Los Angeles Times, 7/28/1900</td>\n",
       "      <td>1900.07.14-Uhlbrecht.pdf</td>\n",
       "      <td>http://sharkattackfile.net/spreadsheets/pdf_di...</td>\n",
       "      <td>http://sharkattackfile.net/spreadsheets/pdf_di...</td>\n",
       "      <td>744.0</td>\n",
       "      <td>Other non-fatal attacks</td>\n",
       "      <td>questionable</td>\n",
       "      <td>Unknown</td>\n",
       "    </tr>\n",
       "    <tr>\n",
       "      <th>5558</th>\n",
       "      <td>1900.07.00</td>\n",
       "      <td>Late Jul-1900</td>\n",
       "      <td>1900</td>\n",
       "      <td>7.0</td>\n",
       "      <td>Provoked</td>\n",
       "      <td>usa</td>\n",
       "      <td>Connecticut</td>\n",
       "      <td>Bridgeport, Fairfield County</td>\n",
       "      <td>canoe</td>\n",
       "      <td>skiff with Dr. William T. Healey, Dr. Henry Ca...</td>\n",
       "      <td>...</td>\n",
       "      <td>NaN</td>\n",
       "      <td>unknown</td>\n",
       "      <td>Times, 8/1/1900</td>\n",
       "      <td>1900.07.00-Bridgeport.pdf</td>\n",
       "      <td>http://sharkattackfile.net/spreadsheets/pdf_di...</td>\n",
       "      <td>http://sharkattackfile.net/spreadsheets/pdf_di...</td>\n",
       "      <td>743.0</td>\n",
       "      <td>No Injury</td>\n",
       "      <td>unknown</td>\n",
       "      <td>Unknown</td>\n",
       "    </tr>\n",
       "    <tr>\n",
       "      <th>5559</th>\n",
       "      <td>1900.01.28</td>\n",
       "      <td>28-Jan-1900</td>\n",
       "      <td>1900</td>\n",
       "      <td>1.0</td>\n",
       "      <td>Unprovoked</td>\n",
       "      <td>Australia</td>\n",
       "      <td>New South Wales</td>\n",
       "      <td>Lane Cove River, Sydney Harbor (Estuary)</td>\n",
       "      <td>bathing</td>\n",
       "      <td>Charles Duck</td>\n",
       "      <td>...</td>\n",
       "      <td>12h00</td>\n",
       "      <td>unknown</td>\n",
       "      <td>Poverty Bay Herald, 2/12/1900</td>\n",
       "      <td>1900.01.28-Duck.pdf</td>\n",
       "      <td>http://sharkattackfile.net/spreadsheets/pdf_di...</td>\n",
       "      <td>http://sharkattackfile.net/spreadsheets/pdf_di...</td>\n",
       "      <td>742.0</td>\n",
       "      <td>Bitten</td>\n",
       "      <td>unknown</td>\n",
       "      <td>Unknown</td>\n",
       "    </tr>\n",
       "    <tr>\n",
       "      <th>5560</th>\n",
       "      <td>1900.00.00.</td>\n",
       "      <td>Early 1900s</td>\n",
       "      <td>1900</td>\n",
       "      <td>0.0</td>\n",
       "      <td>Unprovoked</td>\n",
       "      <td>usa</td>\n",
       "      <td>Hawaii</td>\n",
       "      <td>Inter-Island Dry Dock at Kakaako Street, Honol...</td>\n",
       "      <td>unknown</td>\n",
       "      <td>Emil A. Berndt</td>\n",
       "      <td>...</td>\n",
       "      <td>NaN</td>\n",
       "      <td>unknown</td>\n",
       "      <td>G. H. Balazs; J. Borg, p.69; L. Taylor (1993),...</td>\n",
       "      <td>1900.00.00.b-Berndt.pdf</td>\n",
       "      <td>http://sharkattackfile.net/spreadsheets/pdf_di...</td>\n",
       "      <td>http://sharkattackfile.net/spreadsheets/pdf_di...</td>\n",
       "      <td>741.0</td>\n",
       "      <td>Other non-fatal attacks</td>\n",
       "      <td>unknown</td>\n",
       "      <td>Unknown</td>\n",
       "    </tr>\n",
       "    <tr>\n",
       "      <th>5561</th>\n",
       "      <td>1900.00.00.</td>\n",
       "      <td>Ca. 1900</td>\n",
       "      <td>1900</td>\n",
       "      <td>0.0</td>\n",
       "      <td>Unprovoked</td>\n",
       "      <td>South Africa</td>\n",
       "      <td>Eastern Cape Province</td>\n",
       "      <td>Port Elizabeth</td>\n",
       "      <td>swimming</td>\n",
       "      <td>Mr. Gruner</td>\n",
       "      <td>...</td>\n",
       "      <td>Early morning</td>\n",
       "      <td>unknown</td>\n",
       "      <td>H. Monsen</td>\n",
       "      <td>1900.00.00.a-Gruner.pdf</td>\n",
       "      <td>http://sharkattackfile.net/spreadsheets/pdf_di...</td>\n",
       "      <td>http://sharkattackfile.net/spreadsheets/pdf_di...</td>\n",
       "      <td>740.0</td>\n",
       "      <td>Other non-fatal attacks</td>\n",
       "      <td>unknown</td>\n",
       "      <td>Unknown</td>\n",
       "    </tr>\n",
       "  </tbody>\n",
       "</table>\n",
       "<p>5562 rows × 24 columns</p>\n",
       "</div>"
      ],
      "text/plain": [
       "      Case_Number           Date  Year  Extracted_Month        Type  \\\n",
       "0      2018.06.25    25-Jun-2018  2018              6.0     Boating   \n",
       "1      2018.06.18    18-Jun-2018  2018              6.0  Unprovoked   \n",
       "2      2018.06.09    09-Jun-2018  2018              6.0     Invalid   \n",
       "3      2018.06.08    08-Jun-2018  2018              6.0  Unprovoked   \n",
       "4      2018.06.04    04-Jun-2018  2018              6.0    Provoked   \n",
       "...           ...            ...   ...              ...         ...   \n",
       "5557   1900.07.14    14-Jul-1900  1900              7.0     Invalid   \n",
       "5558   1900.07.00  Late Jul-1900  1900              7.0    Provoked   \n",
       "5559   1900.01.28    28-Jan-1900  1900              1.0  Unprovoked   \n",
       "5560  1900.00.00.    Early 1900s  1900              0.0  Unprovoked   \n",
       "5561  1900.00.00.       Ca. 1900  1900              0.0  Unprovoked   \n",
       "\n",
       "           Country                   Area  \\\n",
       "0              usa             California   \n",
       "1              usa                Georgia   \n",
       "2              usa                 Hawaii   \n",
       "3        Australia        New South Wales   \n",
       "4           Mexico                 Colima   \n",
       "...            ...                    ...   \n",
       "5557           usa                 Hawaii   \n",
       "5558           usa            Connecticut   \n",
       "5559     Australia        New South Wales   \n",
       "5560           usa                 Hawaii   \n",
       "5561  South Africa  Eastern Cape Province   \n",
       "\n",
       "                                               Location           Activity  \\\n",
       "0                           Oceanside, San Diego County            surfing   \n",
       "1                        St. Simon Island, Glynn County            bathing   \n",
       "2                                          Habush, Oahu            surfing   \n",
       "3                                    Arrawarra Headland            surfing   \n",
       "4                                              La Ticla             diving   \n",
       "...                                                 ...                ...   \n",
       "5557                              Makapu'u Point, O'ahu  hunting seashells   \n",
       "5558                       Bridgeport, Fairfield County              canoe   \n",
       "5559           Lane Cove River, Sydney Harbor (Estuary)            bathing   \n",
       "5560  Inter-Island Dry Dock at Kakaako Street, Honol...            unknown   \n",
       "5561                                     Port Elizabeth           swimming   \n",
       "\n",
       "                                                   Name  ...           Time  \\\n",
       "0                                           Julie Wolfe  ...          18h00   \n",
       "1                                       Adyson McNeely   ...  14h00  -15h00   \n",
       "2                                           John Denges  ...          07h45   \n",
       "3                                                  male  ...            NaN   \n",
       "4                                        Gustavo Ramos   ...            NaN   \n",
       "...                                                 ...  ...            ...   \n",
       "5557               Emil Uhlbrecht & unidentified person  ...            NaN   \n",
       "5558  skiff with Dr. William T. Healey, Dr. Henry Ca...  ...            NaN   \n",
       "5559                                       Charles Duck  ...          12h00   \n",
       "5560                                     Emil A. Berndt  ...            NaN   \n",
       "5561                                         Mr. Gruner  ...  Early morning   \n",
       "\n",
       "             Species_                             Investigator_or_Source  \\\n",
       "0         white shark                                   R. Collier, GSAF   \n",
       "1             unknown                     K.McMurray, TrackingSharks.com   \n",
       "2             unknown                     K.McMurray, TrackingSharks.com   \n",
       "3           2 m shark                                     B. Myatt, GSAF   \n",
       "4     tiger shark, 3m                                          A .Kipper   \n",
       "...               ...                                                ...   \n",
       "5557     questionable                       Los Angeles Times, 7/28/1900   \n",
       "5558          unknown                                    Times, 8/1/1900   \n",
       "5559          unknown                      Poverty Bay Herald, 2/12/1900   \n",
       "5560          unknown  G. H. Balazs; J. Borg, p.69; L. Taylor (1993),...   \n",
       "5561          unknown                                         H. Monsen    \n",
       "\n",
       "                            pdf  \\\n",
       "0          2018.06.25-Wolfe.pdf   \n",
       "1        2018.06.18-McNeely.pdf   \n",
       "2         2018.06.09-Denges.pdf   \n",
       "3      2018.06.08-Arrawarra.pdf   \n",
       "4          2018.06.04-Ramos.pdf   \n",
       "...                         ...   \n",
       "5557   1900.07.14-Uhlbrecht.pdf   \n",
       "5558  1900.07.00-Bridgeport.pdf   \n",
       "5559        1900.01.28-Duck.pdf   \n",
       "5560    1900.00.00.b-Berndt.pdf   \n",
       "5561    1900.00.00.a-Gruner.pdf   \n",
       "\n",
       "                                           href_formula  \\\n",
       "0     http://sharkattackfile.net/spreadsheets/pdf_di...   \n",
       "1     http://sharkattackfile.net/spreadsheets/pdf_di...   \n",
       "2     http://sharkattackfile.net/spreadsheets/pdf_di...   \n",
       "3     http://sharkattackfile.net/spreadsheets/pdf_di...   \n",
       "4     http://sharkattackfile.net/spreadsheets/pdf_di...   \n",
       "...                                                 ...   \n",
       "5557  http://sharkattackfile.net/spreadsheets/pdf_di...   \n",
       "5558  http://sharkattackfile.net/spreadsheets/pdf_di...   \n",
       "5559  http://sharkattackfile.net/spreadsheets/pdf_di...   \n",
       "5560  http://sharkattackfile.net/spreadsheets/pdf_di...   \n",
       "5561  http://sharkattackfile.net/spreadsheets/pdf_di...   \n",
       "\n",
       "                                                   href original_order  \\\n",
       "0     http://sharkattackfile.net/spreadsheets/pdf_di...         6303.0   \n",
       "1     http://sharkattackfile.net/spreadsheets/pdf_di...         6302.0   \n",
       "2     http://sharkattackfile.net/spreadsheets/pdf_di...         6301.0   \n",
       "3     http://sharkattackfile.net/spreadsheets/pdf_di...         6300.0   \n",
       "4     http://sharkattackfile.net/spreadsheets/pdf_di...         6299.0   \n",
       "...                                                 ...            ...   \n",
       "5557  http://sharkattackfile.net/spreadsheets/pdf_di...          744.0   \n",
       "5558  http://sharkattackfile.net/spreadsheets/pdf_di...          743.0   \n",
       "5559  http://sharkattackfile.net/spreadsheets/pdf_di...          742.0   \n",
       "5560  http://sharkattackfile.net/spreadsheets/pdf_di...          741.0   \n",
       "5561  http://sharkattackfile.net/spreadsheets/pdf_di...          740.0   \n",
       "\n",
       "              Injury_Category  Species_Grouped     Species_Cleaned  \n",
       "0                   No Injury      white shark         White shark  \n",
       "1                Minor Injury          unknown             Unknown  \n",
       "2     Other non-fatal attacks          unknown             Unknown  \n",
       "3                Minor Injury        2 m shark  Unidentified Shark  \n",
       "4                  Laceration  tiger shark, 3m         Tiger shark  \n",
       "...                       ...              ...                 ...  \n",
       "5557  Other non-fatal attacks     questionable             Unknown  \n",
       "5558                No Injury          unknown             Unknown  \n",
       "5559                   Bitten          unknown             Unknown  \n",
       "5560  Other non-fatal attacks          unknown             Unknown  \n",
       "5561  Other non-fatal attacks          unknown             Unknown  \n",
       "\n",
       "[5562 rows x 24 columns]"
      ]
     },
     "execution_count": 218,
     "metadata": {},
     "output_type": "execute_result"
    }
   ],
   "source": [
    "data['Sex_'] = pd.Categorical(data['Sex_'], categories=['Male', 'Female', 'Unknown'])\n",
    "data\n"
   ]
  },
  {
   "cell_type": "markdown",
   "id": "a89694fb",
   "metadata": {},
   "source": [
    "## 5. Age"
   ]
  },
  {
   "cell_type": "code",
   "execution_count": 219,
   "id": "9c7a7a67",
   "metadata": {},
   "outputs": [
    {
     "name": "stdout",
     "output_type": "stream",
     "text": [
      "Has null values.\n"
     ]
    }
   ],
   "source": [
    "# Check if still has null values\n",
    "has_null_values = data['Age'].isnull().any()\n",
    "if has_null_values:\n",
    "    print(\"Has null values.\")\n",
    "else:\n",
    "    print(\"Does not have null values.\")"
   ]
  },
  {
   "cell_type": "code",
   "execution_count": 220,
   "id": "fb5d4ed1",
   "metadata": {},
   "outputs": [
    {
     "data": {
      "text/plain": [
       "dtype('int64')"
      ]
     },
     "execution_count": 220,
     "metadata": {},
     "output_type": "execute_result"
    }
   ],
   "source": [
    "# Step 1: Replace null values in the \"Age\" column with -1\n",
    "data['Age'].fillna(-1, inplace=True)\n",
    "\n",
    "# Step 2: Convert the data type of the \"Age\" column to integer\n",
    "data['Age'] = data['Age'].astype(int)\n",
    "\n",
    "# Verifying the changes\n",
    "age_data_type_updated = data['Age'].dtype\n",
    "age_data_type_updated"
   ]
  },
  {
   "cell_type": "code",
   "execution_count": 221,
   "id": "85bd5ab3",
   "metadata": {},
   "outputs": [
    {
     "name": "stdout",
     "output_type": "stream",
     "text": [
      "Does not have null values.\n"
     ]
    }
   ],
   "source": [
    "# Second Check if still has null values\n",
    "has_null_values = data['Activity'].isnull().any()\n",
    "if has_null_values:\n",
    "    print(\"Has null values.\")\n",
    "else:\n",
    "    print(\"Does not have null values.\")"
   ]
  },
  {
   "cell_type": "markdown",
   "id": "dc20c981",
   "metadata": {},
   "source": [
    "## 6. Injury Category"
   ]
  },
  {
   "cell_type": "code",
   "execution_count": 222,
   "id": "4c42a4ab",
   "metadata": {},
   "outputs": [
    {
     "name": "stdout",
     "output_type": "stream",
     "text": [
      "Does not have null values.\n"
     ]
    }
   ],
   "source": [
    "# Check if still has null values\n",
    "has_null_values = data['Injury_Category'].isnull().any()\n",
    "if has_null_values:\n",
    "    print(\"Has null values.\")\n",
    "else:\n",
    "    print(\"Does not have null values.\")"
   ]
  },
  {
   "cell_type": "markdown",
   "id": "5628f629",
   "metadata": {},
   "source": [
    "## 7. Fatal_(Y/N)"
   ]
  },
  {
   "cell_type": "code",
   "execution_count": 223,
   "id": "04bf8759",
   "metadata": {},
   "outputs": [
    {
     "name": "stdout",
     "output_type": "stream",
     "text": [
      "Does not have null values.\n"
     ]
    }
   ],
   "source": [
    "# Check if still has null values\n",
    "has_null_values = data['Fatal_(Y/N)'].isnull().any()\n",
    "if has_null_values:\n",
    "    print(\"Has null values.\")\n",
    "else:\n",
    "    print(\"Does not have null values.\")"
   ]
  },
  {
   "cell_type": "code",
   "execution_count": 224,
   "id": "3e9bf2b8",
   "metadata": {},
   "outputs": [
    {
     "data": {
      "text/plain": [
       "['No', 'Yes', NaN]\n",
       "Categories (2, object): ['Yes', 'No']"
      ]
     },
     "execution_count": 224,
     "metadata": {},
     "output_type": "execute_result"
    }
   ],
   "source": [
    "# Convert 'Fatal_(Y/N)' column to a categorical type with 'Yes' and 'No' as the only categories\n",
    "#filtered_data = data.copy()\n",
    "filtered_data['Fatal_(Y/N)'] = pd.Categorical(filtered_data['Fatal_(Y/N)'], categories=['Yes', 'No'])\n",
    "\n",
    "data = filtered_data\n",
    "data['Fatal_(Y/N)'].unique()"
   ]
  },
  {
   "cell_type": "markdown",
   "id": "cb11d1bb",
   "metadata": {},
   "source": [
    "## 8. Species Cleaned"
   ]
  },
  {
   "cell_type": "code",
   "execution_count": 227,
   "id": "d9b4286b",
   "metadata": {},
   "outputs": [
    {
     "name": "stdout",
     "output_type": "stream",
     "text": [
      "Does not have null values.\n"
     ]
    }
   ],
   "source": [
    "# Check if still has null values\n",
    "has_null_values = data['Species_Cleaned'].isnull().any()\n",
    "if has_null_values:\n",
    "    print(\"Has null values.\")\n",
    "else:\n",
    "    print(\"Does not have null values.\")"
   ]
  },
  {
   "cell_type": "markdown",
   "id": "d95fbc47",
   "metadata": {},
   "source": [
    "## 9. Original Order"
   ]
  },
  {
   "cell_type": "code",
   "execution_count": 228,
   "id": "74f00925",
   "metadata": {},
   "outputs": [
    {
     "name": "stdout",
     "output_type": "stream",
     "text": [
      "Does not have null values.\n"
     ]
    }
   ],
   "source": [
    "# Check if still has null values\n",
    "has_null_values = data['original_order'].isnull().any()\n",
    "if has_null_values:\n",
    "    print(\"Has null values.\")\n",
    "else:\n",
    "    print(\"Does not have null values.\")"
   ]
  },
  {
   "cell_type": "code",
   "execution_count": 229,
   "id": "53d14d22",
   "metadata": {},
   "outputs": [
    {
     "data": {
      "text/plain": [
       "5562"
      ]
     },
     "execution_count": 229,
     "metadata": {},
     "output_type": "execute_result"
    }
   ],
   "source": [
    "# This is a good column for graphics as it has as many unique values as the DataFrame has rows \n",
    "data['original_order'].nunique()"
   ]
  },
  {
   "cell_type": "code",
   "execution_count": 231,
   "id": "7ca0d0ff",
   "metadata": {},
   "outputs": [],
   "source": [
    "# Specify the file path where you want to save the CSV file\n",
    "csv_file_path = \"/Users/mairagutierrez/Documents/Ironhack/PROJECTS/project--I/data/cleaning.csv\"\n",
    "\n",
    "# Export the clean data to a CSV file\n",
    "data.to_csv(csv_file_path, index=False)"
   ]
  },
  {
   "cell_type": "code",
   "execution_count": null,
   "id": "047aed48",
   "metadata": {},
   "outputs": [],
   "source": []
  }
 ],
 "metadata": {
  "kernelspec": {
   "display_name": "ironhack",
   "language": "python",
   "name": "ironhack"
  },
  "language_info": {
   "codemirror_mode": {
    "name": "ipython",
    "version": 3
   },
   "file_extension": ".py",
   "mimetype": "text/x-python",
   "name": "python",
   "nbconvert_exporter": "python",
   "pygments_lexer": "ipython3",
   "version": "3.11.5"
  }
 },
 "nbformat": 4,
 "nbformat_minor": 5
}
