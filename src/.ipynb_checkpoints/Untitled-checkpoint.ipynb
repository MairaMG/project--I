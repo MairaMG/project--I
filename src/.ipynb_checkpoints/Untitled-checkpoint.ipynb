{
 "cells": [
  {
   "cell_type": "markdown",
   "id": "59a15de5",
   "metadata": {},
   "source": [
    "## 3. Cleaning"
   ]
  },
  {
   "cell_type": "code",
   "execution_count": 53,
   "id": "2495ef8f",
   "metadata": {},
   "outputs": [],
   "source": [
    "import pandas as pd\n",
    "import numpy as np\n",
    "import matplotlib.pyplot as plt\n",
    "import seaborn as sns\n",
    "import re\n",
    "from fuzzywuzzy import process\n",
    "import pycountry\n"
   ]
  },
  {
   "cell_type": "code",
   "execution_count": 54,
   "id": "78342698",
   "metadata": {},
   "outputs": [
    {
     "data": {
      "text/html": [
       "<div>\n",
       "<style scoped>\n",
       "    .dataframe tbody tr th:only-of-type {\n",
       "        vertical-align: middle;\n",
       "    }\n",
       "\n",
       "    .dataframe tbody tr th {\n",
       "        vertical-align: top;\n",
       "    }\n",
       "\n",
       "    .dataframe thead th {\n",
       "        text-align: right;\n",
       "    }\n",
       "</style>\n",
       "<table border=\"1\" class=\"dataframe\">\n",
       "  <thead>\n",
       "    <tr style=\"text-align: right;\">\n",
       "      <th></th>\n",
       "      <th>Case_Number</th>\n",
       "      <th>Date</th>\n",
       "      <th>Year</th>\n",
       "      <th>Extracted_Month</th>\n",
       "      <th>Type</th>\n",
       "      <th>Country</th>\n",
       "      <th>Area</th>\n",
       "      <th>Location</th>\n",
       "      <th>Activity</th>\n",
       "      <th>Name</th>\n",
       "      <th>...</th>\n",
       "      <th>Time</th>\n",
       "      <th>Species_</th>\n",
       "      <th>Investigator_or_Source</th>\n",
       "      <th>pdf</th>\n",
       "      <th>href_formula</th>\n",
       "      <th>href</th>\n",
       "      <th>original_order</th>\n",
       "      <th>Injury_Category</th>\n",
       "      <th>Species_Grouped</th>\n",
       "      <th>Species_Cleaned</th>\n",
       "    </tr>\n",
       "  </thead>\n",
       "  <tbody>\n",
       "    <tr>\n",
       "      <th>0</th>\n",
       "      <td>2018.06.25</td>\n",
       "      <td>25-Jun-2018</td>\n",
       "      <td>2018</td>\n",
       "      <td>6.0</td>\n",
       "      <td>Boating</td>\n",
       "      <td>usa</td>\n",
       "      <td>California</td>\n",
       "      <td>Oceanside, San Diego County</td>\n",
       "      <td>surfing</td>\n",
       "      <td>Julie Wolfe</td>\n",
       "      <td>...</td>\n",
       "      <td>18h00</td>\n",
       "      <td>white shark</td>\n",
       "      <td>R. Collier, GSAF</td>\n",
       "      <td>2018.06.25-Wolfe.pdf</td>\n",
       "      <td>http://sharkattackfile.net/spreadsheets/pdf_di...</td>\n",
       "      <td>http://sharkattackfile.net/spreadsheets/pdf_di...</td>\n",
       "      <td>6303.0</td>\n",
       "      <td>No Injury</td>\n",
       "      <td>white shark</td>\n",
       "      <td>White shark</td>\n",
       "    </tr>\n",
       "    <tr>\n",
       "      <th>1</th>\n",
       "      <td>2018.06.18</td>\n",
       "      <td>18-Jun-2018</td>\n",
       "      <td>2018</td>\n",
       "      <td>6.0</td>\n",
       "      <td>Unprovoked</td>\n",
       "      <td>usa</td>\n",
       "      <td>Georgia</td>\n",
       "      <td>St. Simon Island, Glynn County</td>\n",
       "      <td>bathing</td>\n",
       "      <td>Adyson McNeely</td>\n",
       "      <td>...</td>\n",
       "      <td>14h00  -15h00</td>\n",
       "      <td>unknown</td>\n",
       "      <td>K.McMurray, TrackingSharks.com</td>\n",
       "      <td>2018.06.18-McNeely.pdf</td>\n",
       "      <td>http://sharkattackfile.net/spreadsheets/pdf_di...</td>\n",
       "      <td>http://sharkattackfile.net/spreadsheets/pdf_di...</td>\n",
       "      <td>6302.0</td>\n",
       "      <td>Minor Injury</td>\n",
       "      <td>unknown</td>\n",
       "      <td>Unknown</td>\n",
       "    </tr>\n",
       "    <tr>\n",
       "      <th>2</th>\n",
       "      <td>2018.06.09</td>\n",
       "      <td>09-Jun-2018</td>\n",
       "      <td>2018</td>\n",
       "      <td>6.0</td>\n",
       "      <td>Invalid</td>\n",
       "      <td>usa</td>\n",
       "      <td>Hawaii</td>\n",
       "      <td>Habush, Oahu</td>\n",
       "      <td>surfing</td>\n",
       "      <td>John Denges</td>\n",
       "      <td>...</td>\n",
       "      <td>07h45</td>\n",
       "      <td>unknown</td>\n",
       "      <td>K.McMurray, TrackingSharks.com</td>\n",
       "      <td>2018.06.09-Denges.pdf</td>\n",
       "      <td>http://sharkattackfile.net/spreadsheets/pdf_di...</td>\n",
       "      <td>http://sharkattackfile.net/spreadsheets/pdf_di...</td>\n",
       "      <td>6301.0</td>\n",
       "      <td>Other non-fatal attacks</td>\n",
       "      <td>unknown</td>\n",
       "      <td>Unknown</td>\n",
       "    </tr>\n",
       "  </tbody>\n",
       "</table>\n",
       "<p>3 rows × 24 columns</p>\n",
       "</div>"
      ],
      "text/plain": [
       "  Case_Number         Date  Year  Extracted_Month        Type Country  \\\n",
       "0  2018.06.25  25-Jun-2018  2018              6.0     Boating     usa   \n",
       "1  2018.06.18  18-Jun-2018  2018              6.0  Unprovoked     usa   \n",
       "2  2018.06.09  09-Jun-2018  2018              6.0     Invalid     usa   \n",
       "\n",
       "         Area                        Location Activity             Name  ...  \\\n",
       "0  California     Oceanside, San Diego County  surfing      Julie Wolfe  ...   \n",
       "1     Georgia  St. Simon Island, Glynn County  bathing  Adyson McNeely   ...   \n",
       "2      Hawaii                    Habush, Oahu  surfing      John Denges  ...   \n",
       "\n",
       "            Time     Species_          Investigator_or_Source  \\\n",
       "0          18h00  white shark                R. Collier, GSAF   \n",
       "1  14h00  -15h00      unknown  K.McMurray, TrackingSharks.com   \n",
       "2          07h45      unknown  K.McMurray, TrackingSharks.com   \n",
       "\n",
       "                      pdf                                       href_formula  \\\n",
       "0    2018.06.25-Wolfe.pdf  http://sharkattackfile.net/spreadsheets/pdf_di...   \n",
       "1  2018.06.18-McNeely.pdf  http://sharkattackfile.net/spreadsheets/pdf_di...   \n",
       "2   2018.06.09-Denges.pdf  http://sharkattackfile.net/spreadsheets/pdf_di...   \n",
       "\n",
       "                                                href original_order  \\\n",
       "0  http://sharkattackfile.net/spreadsheets/pdf_di...         6303.0   \n",
       "1  http://sharkattackfile.net/spreadsheets/pdf_di...         6302.0   \n",
       "2  http://sharkattackfile.net/spreadsheets/pdf_di...         6301.0   \n",
       "\n",
       "           Injury_Category Species_Grouped Species_Cleaned  \n",
       "0                No Injury     white shark     White shark  \n",
       "1             Minor Injury         unknown         Unknown  \n",
       "2  Other non-fatal attacks         unknown         Unknown  \n",
       "\n",
       "[3 rows x 24 columns]"
      ]
     },
     "execution_count": 54,
     "metadata": {},
     "output_type": "execute_result"
    }
   ],
   "source": [
    "def get_clean_data():\n",
    "    # File path to your CSV file\n",
    "    file_path = '/Users/mairagutierrez/Documents/Ironhack/PROJECTS/project--I/data/cleaning.csv'\n",
    "\n",
    "    # Try reading the file with a different encoding\n",
    "    cleaned_data = pd.read_csv(file_path)\n",
    "\n",
    "    return cleaned_data\n",
    "\n",
    "data = get_clean_data()\n",
    "data.head(3) \n"
   ]
  },
  {
   "cell_type": "markdown",
   "id": "ba253cc1",
   "metadata": {},
   "source": [
    "### (Making sure the columns I am goint to use does not have missing values)"
   ]
  },
  {
   "cell_type": "markdown",
   "id": "12565937",
   "metadata": {},
   "source": [
    "## 1. Year"
   ]
  },
  {
   "cell_type": "code",
   "execution_count": 55,
   "id": "bab8ee29",
   "metadata": {},
   "outputs": [
    {
     "name": "stdout",
     "output_type": "stream",
     "text": [
      "Does not have null values.\n"
     ]
    }
   ],
   "source": [
    "has_null_values = data['Year'].isnull().any()\n",
    "if has_null_values:\n",
    "    print(\"Has null values.\")\n",
    "else:\n",
    "    print(\"Does not have null values.\")\n"
   ]
  },
  {
   "cell_type": "markdown",
   "id": "36155619",
   "metadata": {},
   "source": [
    "## 2. Extracted Month"
   ]
  },
  {
   "cell_type": "code",
   "execution_count": 57,
   "id": "12ea7f1d",
   "metadata": {},
   "outputs": [
    {
     "name": "stdout",
     "output_type": "stream",
     "text": [
      "Has null values.\n"
     ]
    }
   ],
   "source": [
    "# Check if has null values\n",
    "has_null_values = data['Extracted_Month'].isnull().any()\n",
    "if has_null_values:\n",
    "    print(\"Has null values.\")\n",
    "else:\n",
    "    print(\"Does not have null values.\")\n"
   ]
  },
  {
   "cell_type": "code",
   "execution_count": 58,
   "id": "e0afb6d9",
   "metadata": {
    "scrolled": true
   },
   "outputs": [
    {
     "data": {
      "text/plain": [
       "389     7.0\n",
       "5486    9.0\n",
       "Name: Extracted_Month, dtype: float64"
      ]
     },
     "execution_count": 58,
     "metadata": {},
     "output_type": "execute_result"
    }
   ],
   "source": [
    "# Replacing the missing values in the \"Extracted_Month\" column for the specified rows\n",
    "data.at[389, 'Extracted_Month'] = 7.0\n",
    "data.at[5486, 'Extracted_Month'] = 9.0\n",
    "\n",
    "# Verifying the changes\n",
    "data.loc[[389, 5486], 'Extracted_Month']\n"
   ]
  },
  {
   "cell_type": "code",
   "execution_count": 59,
   "id": "f0cd0d98",
   "metadata": {},
   "outputs": [
    {
     "name": "stdout",
     "output_type": "stream",
     "text": [
      "Does not have null values.\n"
     ]
    }
   ],
   "source": [
    "# Second Check if still has null values\n",
    "has_null_values = data['Extracted_Month'].isnull().any()\n",
    "if has_null_values:\n",
    "    print(\"Has null values.\")\n",
    "else:\n",
    "    print(\"Does not have null values.\")"
   ]
  },
  {
   "cell_type": "markdown",
   "id": "4f21eecf",
   "metadata": {},
   "source": [
    "## 2. Type"
   ]
  },
  {
   "cell_type": "code",
   "execution_count": 64,
   "id": "1722fddb",
   "metadata": {},
   "outputs": [
    {
     "name": "stdout",
     "output_type": "stream",
     "text": [
      "Does not have null values.\n"
     ]
    }
   ],
   "source": [
    "# Check if still has null values\n",
    "has_null_values = data['Type'].isnull().any()\n",
    "if has_null_values:\n",
    "    print(\"Has null values.\")\n",
    "else:\n",
    "    print(\"Does not have null values.\")"
   ]
  },
  {
   "cell_type": "markdown",
   "id": "9b46edf5",
   "metadata": {},
   "source": [
    "## 2. Country"
   ]
  },
  {
   "cell_type": "code",
   "execution_count": 67,
   "id": "ba3182ad",
   "metadata": {},
   "outputs": [
    {
     "name": "stdout",
     "output_type": "stream",
     "text": [
      "Does not have null values.\n"
     ]
    }
   ],
   "source": [
    "# Check if still has null values\n",
    "has_null_values = data['Country'].isnull().any()\n",
    "if has_null_values:\n",
    "    print(\"Has null values.\")\n",
    "else:\n",
    "    print(\"Does not have null values.\")"
   ]
  },
  {
   "cell_type": "markdown",
   "id": "f985431f",
   "metadata": {},
   "source": [
    "## 3. Activity"
   ]
  },
  {
   "cell_type": "code",
   "execution_count": 70,
   "id": "b94e0578",
   "metadata": {},
   "outputs": [
    {
     "name": "stdout",
     "output_type": "stream",
     "text": [
      "Has null values.\n"
     ]
    }
   ],
   "source": [
    "# Check if still has null values\n",
    "has_null_values = data['Activity'].isnull().any()\n",
    "if has_null_values:\n",
    "    print(\"Has null values.\")\n",
    "else:\n",
    "    print(\"Does not have null values.\")"
   ]
  },
  {
   "cell_type": "code",
   "execution_count": null,
   "id": "8cb5c719",
   "metadata": {},
   "outputs": [],
   "source": []
  },
  {
   "cell_type": "markdown",
   "id": "d220f878",
   "metadata": {},
   "source": [
    "## 4. Sex"
   ]
  },
  {
   "cell_type": "markdown",
   "id": "11a5c1f9",
   "metadata": {},
   "source": [
    "## 5. Age"
   ]
  },
  {
   "cell_type": "markdown",
   "id": "8c2d4805",
   "metadata": {},
   "source": [
    "## 6. Injury Category"
   ]
  },
  {
   "cell_type": "markdown",
   "id": "5ee7b95d",
   "metadata": {},
   "source": [
    "## 7. Fatal_(Y/N)"
   ]
  },
  {
   "cell_type": "markdown",
   "id": "9809a1a3",
   "metadata": {},
   "source": [
    "## 8. Species Cleaned"
   ]
  },
  {
   "cell_type": "markdown",
   "id": "ea518894",
   "metadata": {},
   "source": [
    "## 9. Original Order"
   ]
  },
  {
   "cell_type": "code",
   "execution_count": null,
   "id": "9962e5b3",
   "metadata": {},
   "outputs": [],
   "source": []
  }
 ],
 "metadata": {
  "kernelspec": {
   "display_name": "ironhack",
   "language": "python",
   "name": "ironhack"
  },
  "language_info": {
   "codemirror_mode": {
    "name": "ipython",
    "version": 3
   },
   "file_extension": ".py",
   "mimetype": "text/x-python",
   "name": "python",
   "nbconvert_exporter": "python",
   "pygments_lexer": "ipython3",
   "version": "3.11.5"
  }
 },
 "nbformat": 4,
 "nbformat_minor": 5
}
