{
 "cells": [
  {
   "cell_type": "code",
   "execution_count": 1,
   "id": "0f96fa47",
   "metadata": {},
   "outputs": [],
   "source": [
    "import pandas as pd\n",
    "import numpy as np\n",
    "import matplotlib.pyplot as plt\n",
    "import seaborn as sns\n",
    "import re\n",
    "from fuzzywuzzy import process\n",
    "import pycountry\n"
   ]
  },
  {
   "cell_type": "code",
   "execution_count": 15,
   "id": "ae1c91d7",
   "metadata": {},
   "outputs": [
    {
     "data": {
      "text/html": [
       "<div>\n",
       "<style scoped>\n",
       "    .dataframe tbody tr th:only-of-type {\n",
       "        vertical-align: middle;\n",
       "    }\n",
       "\n",
       "    .dataframe tbody tr th {\n",
       "        vertical-align: top;\n",
       "    }\n",
       "\n",
       "    .dataframe thead th {\n",
       "        text-align: right;\n",
       "    }\n",
       "</style>\n",
       "<table border=\"1\" class=\"dataframe\">\n",
       "  <thead>\n",
       "    <tr style=\"text-align: right;\">\n",
       "      <th></th>\n",
       "      <th>Case_Number</th>\n",
       "      <th>Date</th>\n",
       "      <th>Year</th>\n",
       "      <th>Extracted_Month</th>\n",
       "      <th>Type</th>\n",
       "      <th>Country</th>\n",
       "      <th>Area</th>\n",
       "      <th>Location</th>\n",
       "      <th>Activity</th>\n",
       "      <th>Name</th>\n",
       "      <th>...</th>\n",
       "      <th>Age</th>\n",
       "      <th>Injury</th>\n",
       "      <th>Fatal_(Y/N)</th>\n",
       "      <th>Time</th>\n",
       "      <th>Species_</th>\n",
       "      <th>Investigator_or_Source</th>\n",
       "      <th>pdf</th>\n",
       "      <th>href_formula</th>\n",
       "      <th>href</th>\n",
       "      <th>original_order</th>\n",
       "    </tr>\n",
       "  </thead>\n",
       "  <tbody>\n",
       "    <tr>\n",
       "      <th>0</th>\n",
       "      <td>2018.06.25</td>\n",
       "      <td>25-Jun-2018</td>\n",
       "      <td>2018</td>\n",
       "      <td>6.0</td>\n",
       "      <td>Boating</td>\n",
       "      <td>usa</td>\n",
       "      <td>California</td>\n",
       "      <td>Oceanside, San Diego County</td>\n",
       "      <td>surfing</td>\n",
       "      <td>Julie Wolfe</td>\n",
       "      <td>...</td>\n",
       "      <td>57.0</td>\n",
       "      <td>No injury to occupant, outrigger canoe and pad...</td>\n",
       "      <td>no</td>\n",
       "      <td>18h00</td>\n",
       "      <td>White shark</td>\n",
       "      <td>R. Collier, GSAF</td>\n",
       "      <td>2018.06.25-Wolfe.pdf</td>\n",
       "      <td>http://sharkattackfile.net/spreadsheets/pdf_di...</td>\n",
       "      <td>http://sharkattackfile.net/spreadsheets/pdf_di...</td>\n",
       "      <td>6303.0</td>\n",
       "    </tr>\n",
       "    <tr>\n",
       "      <th>1</th>\n",
       "      <td>2018.06.18</td>\n",
       "      <td>18-Jun-2018</td>\n",
       "      <td>2018</td>\n",
       "      <td>6.0</td>\n",
       "      <td>Unprovoked</td>\n",
       "      <td>usa</td>\n",
       "      <td>Georgia</td>\n",
       "      <td>St. Simon Island, Glynn County</td>\n",
       "      <td>bathing</td>\n",
       "      <td>Adyson McNeely</td>\n",
       "      <td>...</td>\n",
       "      <td>11.0</td>\n",
       "      <td>Minor injury to left thigh</td>\n",
       "      <td>no</td>\n",
       "      <td>14h00  -15h00</td>\n",
       "      <td>NaN</td>\n",
       "      <td>K.McMurray, TrackingSharks.com</td>\n",
       "      <td>2018.06.18-McNeely.pdf</td>\n",
       "      <td>http://sharkattackfile.net/spreadsheets/pdf_di...</td>\n",
       "      <td>http://sharkattackfile.net/spreadsheets/pdf_di...</td>\n",
       "      <td>6302.0</td>\n",
       "    </tr>\n",
       "    <tr>\n",
       "      <th>2</th>\n",
       "      <td>2018.06.09</td>\n",
       "      <td>09-Jun-2018</td>\n",
       "      <td>2018</td>\n",
       "      <td>6.0</td>\n",
       "      <td>Invalid</td>\n",
       "      <td>usa</td>\n",
       "      <td>Hawaii</td>\n",
       "      <td>Habush, Oahu</td>\n",
       "      <td>surfing</td>\n",
       "      <td>John Denges</td>\n",
       "      <td>...</td>\n",
       "      <td>48.0</td>\n",
       "      <td>Injury to left lower leg from surfboard skeg</td>\n",
       "      <td>no</td>\n",
       "      <td>07h45</td>\n",
       "      <td>NaN</td>\n",
       "      <td>K.McMurray, TrackingSharks.com</td>\n",
       "      <td>2018.06.09-Denges.pdf</td>\n",
       "      <td>http://sharkattackfile.net/spreadsheets/pdf_di...</td>\n",
       "      <td>http://sharkattackfile.net/spreadsheets/pdf_di...</td>\n",
       "      <td>6301.0</td>\n",
       "    </tr>\n",
       "  </tbody>\n",
       "</table>\n",
       "<p>3 rows × 21 columns</p>\n",
       "</div>"
      ],
      "text/plain": [
       "  Case_Number         Date  Year  Extracted_Month        Type Country  \\\n",
       "0  2018.06.25  25-Jun-2018  2018              6.0     Boating     usa   \n",
       "1  2018.06.18  18-Jun-2018  2018              6.0  Unprovoked     usa   \n",
       "2  2018.06.09  09-Jun-2018  2018              6.0     Invalid     usa   \n",
       "\n",
       "         Area                        Location Activity             Name  ...  \\\n",
       "0  California     Oceanside, San Diego County  surfing      Julie Wolfe  ...   \n",
       "1     Georgia  St. Simon Island, Glynn County  bathing  Adyson McNeely   ...   \n",
       "2      Hawaii                    Habush, Oahu  surfing      John Denges  ...   \n",
       "\n",
       "    Age                                             Injury Fatal_(Y/N)  \\\n",
       "0  57.0  No injury to occupant, outrigger canoe and pad...          no   \n",
       "1  11.0                         Minor injury to left thigh          no   \n",
       "2  48.0       Injury to left lower leg from surfboard skeg          no   \n",
       "\n",
       "            Time     Species_          Investigator_or_Source  \\\n",
       "0          18h00  White shark                R. Collier, GSAF   \n",
       "1  14h00  -15h00          NaN  K.McMurray, TrackingSharks.com   \n",
       "2          07h45          NaN  K.McMurray, TrackingSharks.com   \n",
       "\n",
       "                      pdf                                       href_formula  \\\n",
       "0    2018.06.25-Wolfe.pdf  http://sharkattackfile.net/spreadsheets/pdf_di...   \n",
       "1  2018.06.18-McNeely.pdf  http://sharkattackfile.net/spreadsheets/pdf_di...   \n",
       "2   2018.06.09-Denges.pdf  http://sharkattackfile.net/spreadsheets/pdf_di...   \n",
       "\n",
       "                                                href original_order  \n",
       "0  http://sharkattackfile.net/spreadsheets/pdf_di...         6303.0  \n",
       "1  http://sharkattackfile.net/spreadsheets/pdf_di...         6302.0  \n",
       "2  http://sharkattackfile.net/spreadsheets/pdf_di...         6301.0  \n",
       "\n",
       "[3 rows x 21 columns]"
      ]
     },
     "execution_count": 15,
     "metadata": {},
     "output_type": "execute_result"
    }
   ],
   "source": [
    "def get_clean_data():\n",
    "    # File path to your CSV file\n",
    "    file_path = '/Users/mairagutierrez/Documents/Ironhack/PROJECTS/project--I/src/cleaning.csv'\n",
    "\n",
    "    # Try reading the file with a different encoding\n",
    "    cleaned_data = pd.read_csv(file_path)\n",
    "\n",
    "    return cleaned_data\n",
    "\n",
    "clean_data = get_clean_data()\n",
    "clean_data.head(3)  # Corrected variable name\n"
   ]
  },
  {
   "cell_type": "code",
   "execution_count": 14,
   "id": "f6f58884",
   "metadata": {},
   "outputs": [
    {
     "data": {
      "text/plain": [
       "Case_Number                object\n",
       "Date                       object\n",
       "Year                        int64\n",
       "Extracted_Month           float64\n",
       "Type                       object\n",
       "Country                    object\n",
       "Area                       object\n",
       "Location                   object\n",
       "Activity                   object\n",
       "Name                       object\n",
       "Sex_                       object\n",
       "Age                       float64\n",
       "Injury                     object\n",
       "Fatal_(Y/N)                object\n",
       "Time                       object\n",
       "Species_                   object\n",
       "Investigator_or_Source     object\n",
       "pdf                        object\n",
       "href_formula               object\n",
       "href                       object\n",
       "original_order            float64\n",
       "dtype: object"
      ]
     },
     "execution_count": 14,
     "metadata": {},
     "output_type": "execute_result"
    }
   ],
   "source": [
    "data_types = clean_data.dtypes\n",
    "data_types"
   ]
  },
  {
   "cell_type": "markdown",
   "id": "9e939de8",
   "metadata": {},
   "source": [
    "## 1. Number of shark attacks per years, add some trends like (months with most attaks?)"
   ]
  },
  {
   "cell_type": "code",
   "execution_count": 17,
   "id": "e997d51c",
   "metadata": {},
   "outputs": [
    {
     "data": {
      "text/plain": [
       "Decade\n",
       "1900     154\n",
       "1910     147\n",
       "1920     207\n",
       "1930     274\n",
       "1940     283\n",
       "1950     464\n",
       "1960     618\n",
       "1970     334\n",
       "1980     434\n",
       "1990     569\n",
       "2000    1021\n",
       "2010    1057\n",
       "dtype: int64"
      ]
     },
     "execution_count": 17,
     "metadata": {},
     "output_type": "execute_result"
    }
   ],
   "source": [
    "# Convert 'Year' column to integers\n",
    "clean_data['Year'] = clean_data['Year'].astype(int)\n",
    "\n",
    "# Calculate the decade for each row\n",
    "clean_data['Decade'] = (clean_data['Year'] // 10) * 10\n",
    "\n",
    "# Group by decade and count the number of shark attacks\n",
    "attacks_per_decade = clean_data.groupby('Decade').size()\n",
    "\n",
    "# Display the number of shark attacks per decade\n",
    "attacks_per_decade"
   ]
  },
  {
   "cell_type": "markdown",
   "id": "126c0d04",
   "metadata": {},
   "source": [
    "## 2. Geographical Analysis of Shark Attacks"
   ]
  },
  {
   "cell_type": "markdown",
   "id": "d20acbd7",
   "metadata": {},
   "source": [
    "## 3. Analysis of Victim Demographics (using only the \"Sex\" column)"
   ]
  },
  {
   "cell_type": "code",
   "execution_count": null,
   "id": "b64ec56e",
   "metadata": {},
   "outputs": [],
   "source": []
  }
 ],
 "metadata": {
  "kernelspec": {
   "display_name": "ironhack",
   "language": "python",
   "name": "ironhack"
  },
  "language_info": {
   "codemirror_mode": {
    "name": "ipython",
    "version": 3
   },
   "file_extension": ".py",
   "mimetype": "text/x-python",
   "name": "python",
   "nbconvert_exporter": "python",
   "pygments_lexer": "ipython3",
   "version": "3.11.5"
  }
 },
 "nbformat": 4,
 "nbformat_minor": 5
}
